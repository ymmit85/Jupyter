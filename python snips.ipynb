{
 "cells": [
  {
   "cell_type": "markdown",
   "metadata": {},
   "source": [
    "##allow arguments to be parsed into script. in this example 'location' and 'application' are made into a variable in the script. They are positional.. so 'location' first then 'application'"
   ]
  },
  {
   "cell_type": "code",
   "execution_count": null,
   "metadata": {},
   "outputs": [],
   "source": [
    "import argparse\n",
    "parser = argparse.ArgumentParser()\n",
    "parser.add_argument(\"location\", help=\"enter location\",type=str)\n",
    "parser.add_argument(\"application\", help=\"enter applicaiton name\",type=str)\n",
    "args = parser.parse_args()\n",
    "\n",
    "y=  args.location\n",
    "print(y)"
   ]
  },
  {
   "cell_type": "markdown",
   "metadata": {},
   "source": [
    "##curl "
   ]
  },
  {
   "cell_type": "code",
   "execution_count": null,
   "metadata": {},
   "outputs": [],
   "source": [
    "import requests\n",
    "#req = requests.get('http://phantom.home.local:5984/test/_design/views/_view/site_codes')\n",
    "req = requests.get('http://phantom:5984/test/_design/views/_view/app-codes/?key=%22print%22')\n",
    "print(req.status_code)\n",
    "print(req.text)\n",
    "\n",
    "json = req.json()\n",
    "print(json.value)\n"
   ]
  },
  {
   "cell_type": "markdown",
   "metadata": {},
   "source": [
    "##import file and find text"
   ]
  },
  {
   "cell_type": "code",
   "execution_count": null,
   "metadata": {},
   "outputs": [],
   "source": [
    "list = open(\"hosts.txt\", \"r\").read().split()\n",
    "\n",
    "\n",
    "x = \"per\"\n",
    "\n",
    "y = [s for s in list if x in s]\n",
    "print(y)\n",
    "t = max(y)\n",
    "print(t)"
   ]
  },
  {
   "cell_type": "markdown",
   "metadata": {},
   "source": [
    "##if null"
   ]
  },
  {
   "cell_type": "code",
   "execution_count": null,
   "metadata": {},
   "outputs": [],
   "source": [
    "value = None\n",
    "if value is None:\n",
    "    # do something\n",
    "    print(\"if\")\n",
    "\n",
    "if value is not None:\n",
    "    print(\"not\")\n"
   ]
  },
  {
   "cell_type": "markdown",
   "metadata": {},
   "source": [
    "##for loop"
   ]
  },
  {
   "cell_type": "markdown",
   "metadata": {},
   "source": [
    "#for loop\n",
    "\n",
    "for i in list:\n",
    "    print(i)\n",
    "    j = i[:-3]\n",
    "    print(j)\n",
    "\n",
    "#import a file\n",
    "list = open(\"hosts.txt\", \"r\").read().split()\n"
   ]
  }
 ],
 "metadata": {
  "kernelspec": {
   "display_name": "Python 3",
   "language": "python",
   "name": "python3"
  },
  "language_info": {
   "codemirror_mode": {
    "name": "ipython",
    "version": 3
   },
   "file_extension": ".py",
   "mimetype": "text/x-python",
   "name": "python",
   "nbconvert_exporter": "python",
   "pygments_lexer": "ipython3",
   "version": "3.7.3"
  }
 },
 "nbformat": 4,
 "nbformat_minor": 2
}
