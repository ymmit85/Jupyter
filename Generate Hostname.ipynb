{
 "cells": [
  {
   "cell_type": "markdown",
   "metadata": {},
   "source": [
    "##generate hostname and save to file"
   ]
  },
  {
   "cell_type": "code",
   "execution_count": 1,
   "metadata": {},
   "outputs": [
    {
     "name": "stderr",
     "output_type": "stream",
     "text": [
      "usage: ipykernel_launcher.py [-h] location site application\n",
      "ipykernel_launcher.py: error: the following arguments are required: site, application\n"
     ]
    },
    {
     "ename": "SystemExit",
     "evalue": "2",
     "output_type": "error",
     "traceback": [
      "An exception has occurred, use %tb to see the full traceback.\n",
      "\u001b[0;31mSystemExit\u001b[0m\u001b[0;31m:\u001b[0m 2\n"
     ]
    },
    {
     "name": "stderr",
     "output_type": "stream",
     "text": [
      "/home/tim/anaconda3/lib/python3.7/site-packages/IPython/core/interactiveshell.py:3333: UserWarning: To exit: use 'exit', 'quit', or Ctrl-D.\n",
      "  warn(\"To exit: use 'exit', 'quit', or Ctrl-D.\", stacklevel=1)\n"
     ]
    }
   ],
   "source": [
    "import re\n",
    "import argparse\n",
    "parser = argparse.ArgumentParser()\n",
    "parser.add_argument(\"location\", help=\"enter location\",type=str)\n",
    "parser.add_argument(\"site\", help=\"enter site code\",type=str)\n",
    "parser.add_argument(\"application\", help=\"enter applicaiton name\",type=str)\n",
    "\n",
    "args = parser.parse_args()\n",
    "    \n",
    "list = open(\"hosts.txt\", \"r\").read().split()\n",
    "\n",
    "newLoc = args.location [:3]\n",
    "newLoc = newLoc.lower()\n",
    "\n",
    "newApp= args.application [:3]\n",
    "newApp = newApp.lower()\n",
    "\n",
    "hostname = newLoc + args.site + newApp\n",
    "\n",
    "#get matching server names from list\n",
    "y = [s for s in list if hostname in s]\n",
    "\n",
    "if not y:\n",
    "    print(hostname)\n",
    "    y.append(hostname + \"000\")\n",
    "\n",
    "\n",
    "max = max(y)\n",
    "p = re.sub('(\\d+)(?!.*\\d)', lambda x: str(int(x.group(0)) + 1).zfill(3), max)\n",
    "print(p)\n",
    "\n",
    "list = open(\"hosts.txt\", \"a+\")\n",
    "list.write('\\n')\n",
    "list.write(p)"
   ]
  },
  {
   "cell_type": "code",
   "execution_count": null,
   "metadata": {},
   "outputs": [],
   "source": [
    "perdom001\n",
    "perdom002\n",
    "meldom001\n",
    "perdom003\n",
    "perdom004\n",
    "perdom005\n",
    "perdom006\n",
    "perdom007\n",
    "perdom008\n",
    "tassql001"
   ]
  }
 ],
 "metadata": {
  "kernelspec": {
   "display_name": "Python 3",
   "language": "python",
   "name": "python3"
  },
  "language_info": {
   "codemirror_mode": {
    "name": "ipython",
    "version": 3
   },
   "file_extension": ".py",
   "mimetype": "text/x-python",
   "name": "python",
   "nbconvert_exporter": "python",
   "pygments_lexer": "ipython3",
   "version": "3.7.3"
  }
 },
 "nbformat": 4,
 "nbformat_minor": 2
}
